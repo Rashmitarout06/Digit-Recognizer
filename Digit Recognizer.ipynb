{
 "cells": [
  {
   "cell_type": "code",
   "execution_count": 1,
   "metadata": {
    "collapsed": true
   },
   "outputs": [],
   "source": [
    "#importing the packages\n",
    "import tensorflow as tf\n",
    "import numpy as np\n",
    "import pandas as pd\n",
    "%matplotlib inline\n",
    "import math\n",
    "import matplotlib.pyplot as plt\n",
    "from sklearn.decomposition import PCA\n",
    "from sklearn.preprocessing import StandardScaler, LabelEncoder, OneHotEncoder\n",
    "# Remove regular python warnings\n",
    "import warnings\n",
    "warnings.filterwarnings('ignore')"
   ]
  },
  {
   "cell_type": "code",
   "execution_count": 2,
   "metadata": {
    "collapsed": false
   },
   "outputs": [
    {
     "data": {
      "text/html": [
       "<div>\n",
       "<table border=\"1\" class=\"dataframe\">\n",
       "  <thead>\n",
       "    <tr style=\"text-align: right;\">\n",
       "      <th></th>\n",
       "      <th>label</th>\n",
       "      <th>pixel0</th>\n",
       "      <th>pixel1</th>\n",
       "      <th>pixel2</th>\n",
       "      <th>pixel3</th>\n",
       "      <th>pixel4</th>\n",
       "      <th>pixel5</th>\n",
       "      <th>pixel6</th>\n",
       "      <th>pixel7</th>\n",
       "      <th>pixel8</th>\n",
       "      <th>...</th>\n",
       "      <th>pixel774</th>\n",
       "      <th>pixel775</th>\n",
       "      <th>pixel776</th>\n",
       "      <th>pixel777</th>\n",
       "      <th>pixel778</th>\n",
       "      <th>pixel779</th>\n",
       "      <th>pixel780</th>\n",
       "      <th>pixel781</th>\n",
       "      <th>pixel782</th>\n",
       "      <th>pixel783</th>\n",
       "    </tr>\n",
       "  </thead>\n",
       "  <tbody>\n",
       "    <tr>\n",
       "      <th>0</th>\n",
       "      <td>1</td>\n",
       "      <td>0</td>\n",
       "      <td>0</td>\n",
       "      <td>0</td>\n",
       "      <td>0</td>\n",
       "      <td>0</td>\n",
       "      <td>0</td>\n",
       "      <td>0</td>\n",
       "      <td>0</td>\n",
       "      <td>0</td>\n",
       "      <td>...</td>\n",
       "      <td>0</td>\n",
       "      <td>0</td>\n",
       "      <td>0</td>\n",
       "      <td>0</td>\n",
       "      <td>0</td>\n",
       "      <td>0</td>\n",
       "      <td>0</td>\n",
       "      <td>0</td>\n",
       "      <td>0</td>\n",
       "      <td>0</td>\n",
       "    </tr>\n",
       "    <tr>\n",
       "      <th>1</th>\n",
       "      <td>0</td>\n",
       "      <td>0</td>\n",
       "      <td>0</td>\n",
       "      <td>0</td>\n",
       "      <td>0</td>\n",
       "      <td>0</td>\n",
       "      <td>0</td>\n",
       "      <td>0</td>\n",
       "      <td>0</td>\n",
       "      <td>0</td>\n",
       "      <td>...</td>\n",
       "      <td>0</td>\n",
       "      <td>0</td>\n",
       "      <td>0</td>\n",
       "      <td>0</td>\n",
       "      <td>0</td>\n",
       "      <td>0</td>\n",
       "      <td>0</td>\n",
       "      <td>0</td>\n",
       "      <td>0</td>\n",
       "      <td>0</td>\n",
       "    </tr>\n",
       "    <tr>\n",
       "      <th>2</th>\n",
       "      <td>1</td>\n",
       "      <td>0</td>\n",
       "      <td>0</td>\n",
       "      <td>0</td>\n",
       "      <td>0</td>\n",
       "      <td>0</td>\n",
       "      <td>0</td>\n",
       "      <td>0</td>\n",
       "      <td>0</td>\n",
       "      <td>0</td>\n",
       "      <td>...</td>\n",
       "      <td>0</td>\n",
       "      <td>0</td>\n",
       "      <td>0</td>\n",
       "      <td>0</td>\n",
       "      <td>0</td>\n",
       "      <td>0</td>\n",
       "      <td>0</td>\n",
       "      <td>0</td>\n",
       "      <td>0</td>\n",
       "      <td>0</td>\n",
       "    </tr>\n",
       "    <tr>\n",
       "      <th>3</th>\n",
       "      <td>4</td>\n",
       "      <td>0</td>\n",
       "      <td>0</td>\n",
       "      <td>0</td>\n",
       "      <td>0</td>\n",
       "      <td>0</td>\n",
       "      <td>0</td>\n",
       "      <td>0</td>\n",
       "      <td>0</td>\n",
       "      <td>0</td>\n",
       "      <td>...</td>\n",
       "      <td>0</td>\n",
       "      <td>0</td>\n",
       "      <td>0</td>\n",
       "      <td>0</td>\n",
       "      <td>0</td>\n",
       "      <td>0</td>\n",
       "      <td>0</td>\n",
       "      <td>0</td>\n",
       "      <td>0</td>\n",
       "      <td>0</td>\n",
       "    </tr>\n",
       "    <tr>\n",
       "      <th>4</th>\n",
       "      <td>0</td>\n",
       "      <td>0</td>\n",
       "      <td>0</td>\n",
       "      <td>0</td>\n",
       "      <td>0</td>\n",
       "      <td>0</td>\n",
       "      <td>0</td>\n",
       "      <td>0</td>\n",
       "      <td>0</td>\n",
       "      <td>0</td>\n",
       "      <td>...</td>\n",
       "      <td>0</td>\n",
       "      <td>0</td>\n",
       "      <td>0</td>\n",
       "      <td>0</td>\n",
       "      <td>0</td>\n",
       "      <td>0</td>\n",
       "      <td>0</td>\n",
       "      <td>0</td>\n",
       "      <td>0</td>\n",
       "      <td>0</td>\n",
       "    </tr>\n",
       "  </tbody>\n",
       "</table>\n",
       "<p>5 rows × 785 columns</p>\n",
       "</div>"
      ],
      "text/plain": [
       "   label  pixel0  pixel1  pixel2  pixel3  pixel4  pixel5  pixel6  pixel7  \\\n",
       "0      1       0       0       0       0       0       0       0       0   \n",
       "1      0       0       0       0       0       0       0       0       0   \n",
       "2      1       0       0       0       0       0       0       0       0   \n",
       "3      4       0       0       0       0       0       0       0       0   \n",
       "4      0       0       0       0       0       0       0       0       0   \n",
       "\n",
       "   pixel8    ...     pixel774  pixel775  pixel776  pixel777  pixel778  \\\n",
       "0       0    ...            0         0         0         0         0   \n",
       "1       0    ...            0         0         0         0         0   \n",
       "2       0    ...            0         0         0         0         0   \n",
       "3       0    ...            0         0         0         0         0   \n",
       "4       0    ...            0         0         0         0         0   \n",
       "\n",
       "   pixel779  pixel780  pixel781  pixel782  pixel783  \n",
       "0         0         0         0         0         0  \n",
       "1         0         0         0         0         0  \n",
       "2         0         0         0         0         0  \n",
       "3         0         0         0         0         0  \n",
       "4         0         0         0         0         0  \n",
       "\n",
       "[5 rows x 785 columns]"
      ]
     },
     "execution_count": 2,
     "metadata": {},
     "output_type": "execute_result"
    }
   ],
   "source": [
    "#importing the train data\n",
    "train = pd.read_csv(\"C:/Users/Rashmita Rout/Desktop/Multivariate/Digit Data/final/train.csv\")\n",
    "train.head()"
   ]
  },
  {
   "cell_type": "code",
   "execution_count": 3,
   "metadata": {
    "collapsed": false
   },
   "outputs": [
    {
     "name": "stdout",
     "output_type": "stream",
     "text": [
      "(42000, 785)\n"
     ]
    }
   ],
   "source": [
    "print(train.shape)"
   ]
  },
  {
   "cell_type": "code",
   "execution_count": 4,
   "metadata": {
    "collapsed": false
   },
   "outputs": [
    {
     "data": {
      "text/html": [
       "<div>\n",
       "<table border=\"1\" class=\"dataframe\">\n",
       "  <thead>\n",
       "    <tr style=\"text-align: right;\">\n",
       "      <th></th>\n",
       "      <th>pixel0</th>\n",
       "      <th>pixel1</th>\n",
       "      <th>pixel2</th>\n",
       "      <th>pixel3</th>\n",
       "      <th>pixel4</th>\n",
       "      <th>pixel5</th>\n",
       "      <th>pixel6</th>\n",
       "      <th>pixel7</th>\n",
       "      <th>pixel8</th>\n",
       "      <th>pixel9</th>\n",
       "      <th>...</th>\n",
       "      <th>pixel774</th>\n",
       "      <th>pixel775</th>\n",
       "      <th>pixel776</th>\n",
       "      <th>pixel777</th>\n",
       "      <th>pixel778</th>\n",
       "      <th>pixel779</th>\n",
       "      <th>pixel780</th>\n",
       "      <th>pixel781</th>\n",
       "      <th>pixel782</th>\n",
       "      <th>pixel783</th>\n",
       "    </tr>\n",
       "  </thead>\n",
       "  <tbody>\n",
       "    <tr>\n",
       "      <th>0</th>\n",
       "      <td>0</td>\n",
       "      <td>0</td>\n",
       "      <td>0</td>\n",
       "      <td>0</td>\n",
       "      <td>0</td>\n",
       "      <td>0</td>\n",
       "      <td>0</td>\n",
       "      <td>0</td>\n",
       "      <td>0</td>\n",
       "      <td>0</td>\n",
       "      <td>...</td>\n",
       "      <td>0</td>\n",
       "      <td>0</td>\n",
       "      <td>0</td>\n",
       "      <td>0</td>\n",
       "      <td>0</td>\n",
       "      <td>0</td>\n",
       "      <td>0</td>\n",
       "      <td>0</td>\n",
       "      <td>0</td>\n",
       "      <td>0</td>\n",
       "    </tr>\n",
       "    <tr>\n",
       "      <th>1</th>\n",
       "      <td>0</td>\n",
       "      <td>0</td>\n",
       "      <td>0</td>\n",
       "      <td>0</td>\n",
       "      <td>0</td>\n",
       "      <td>0</td>\n",
       "      <td>0</td>\n",
       "      <td>0</td>\n",
       "      <td>0</td>\n",
       "      <td>0</td>\n",
       "      <td>...</td>\n",
       "      <td>0</td>\n",
       "      <td>0</td>\n",
       "      <td>0</td>\n",
       "      <td>0</td>\n",
       "      <td>0</td>\n",
       "      <td>0</td>\n",
       "      <td>0</td>\n",
       "      <td>0</td>\n",
       "      <td>0</td>\n",
       "      <td>0</td>\n",
       "    </tr>\n",
       "    <tr>\n",
       "      <th>2</th>\n",
       "      <td>0</td>\n",
       "      <td>0</td>\n",
       "      <td>0</td>\n",
       "      <td>0</td>\n",
       "      <td>0</td>\n",
       "      <td>0</td>\n",
       "      <td>0</td>\n",
       "      <td>0</td>\n",
       "      <td>0</td>\n",
       "      <td>0</td>\n",
       "      <td>...</td>\n",
       "      <td>0</td>\n",
       "      <td>0</td>\n",
       "      <td>0</td>\n",
       "      <td>0</td>\n",
       "      <td>0</td>\n",
       "      <td>0</td>\n",
       "      <td>0</td>\n",
       "      <td>0</td>\n",
       "      <td>0</td>\n",
       "      <td>0</td>\n",
       "    </tr>\n",
       "    <tr>\n",
       "      <th>3</th>\n",
       "      <td>0</td>\n",
       "      <td>0</td>\n",
       "      <td>0</td>\n",
       "      <td>0</td>\n",
       "      <td>0</td>\n",
       "      <td>0</td>\n",
       "      <td>0</td>\n",
       "      <td>0</td>\n",
       "      <td>0</td>\n",
       "      <td>0</td>\n",
       "      <td>...</td>\n",
       "      <td>0</td>\n",
       "      <td>0</td>\n",
       "      <td>0</td>\n",
       "      <td>0</td>\n",
       "      <td>0</td>\n",
       "      <td>0</td>\n",
       "      <td>0</td>\n",
       "      <td>0</td>\n",
       "      <td>0</td>\n",
       "      <td>0</td>\n",
       "    </tr>\n",
       "    <tr>\n",
       "      <th>4</th>\n",
       "      <td>0</td>\n",
       "      <td>0</td>\n",
       "      <td>0</td>\n",
       "      <td>0</td>\n",
       "      <td>0</td>\n",
       "      <td>0</td>\n",
       "      <td>0</td>\n",
       "      <td>0</td>\n",
       "      <td>0</td>\n",
       "      <td>0</td>\n",
       "      <td>...</td>\n",
       "      <td>0</td>\n",
       "      <td>0</td>\n",
       "      <td>0</td>\n",
       "      <td>0</td>\n",
       "      <td>0</td>\n",
       "      <td>0</td>\n",
       "      <td>0</td>\n",
       "      <td>0</td>\n",
       "      <td>0</td>\n",
       "      <td>0</td>\n",
       "    </tr>\n",
       "  </tbody>\n",
       "</table>\n",
       "<p>5 rows × 784 columns</p>\n",
       "</div>"
      ],
      "text/plain": [
       "   pixel0  pixel1  pixel2  pixel3  pixel4  pixel5  pixel6  pixel7  pixel8  \\\n",
       "0       0       0       0       0       0       0       0       0       0   \n",
       "1       0       0       0       0       0       0       0       0       0   \n",
       "2       0       0       0       0       0       0       0       0       0   \n",
       "3       0       0       0       0       0       0       0       0       0   \n",
       "4       0       0       0       0       0       0       0       0       0   \n",
       "\n",
       "   pixel9    ...     pixel774  pixel775  pixel776  pixel777  pixel778  \\\n",
       "0       0    ...            0         0         0         0         0   \n",
       "1       0    ...            0         0         0         0         0   \n",
       "2       0    ...            0         0         0         0         0   \n",
       "3       0    ...            0         0         0         0         0   \n",
       "4       0    ...            0         0         0         0         0   \n",
       "\n",
       "   pixel779  pixel780  pixel781  pixel782  pixel783  \n",
       "0         0         0         0         0         0  \n",
       "1         0         0         0         0         0  \n",
       "2         0         0         0         0         0  \n",
       "3         0         0         0         0         0  \n",
       "4         0         0         0         0         0  \n",
       "\n",
       "[5 rows x 784 columns]"
      ]
     },
     "execution_count": 4,
     "metadata": {},
     "output_type": "execute_result"
    }
   ],
   "source": [
    "#importing the test data\n",
    "test = pd.read_csv(\"C:/Users/Rashmita Rout/Desktop/Multivariate/Digit Data/final/test.csv\")\n",
    "test.head()"
   ]
  },
  {
   "cell_type": "code",
   "execution_count": 5,
   "metadata": {
    "collapsed": false
   },
   "outputs": [
    {
     "name": "stdout",
     "output_type": "stream",
     "text": [
      "(28000, 784)\n"
     ]
    }
   ],
   "source": [
    "print(test.shape)"
   ]
  },
  {
   "cell_type": "code",
   "execution_count": 6,
   "metadata": {
    "collapsed": true
   },
   "outputs": [],
   "source": [
    "#dividing the dataset into features and labels\n",
    "train_features = train.drop(['label'],axis=1)\n",
    "train_labels = train.label\n",
    "test_features = test"
   ]
  },
  {
   "cell_type": "code",
   "execution_count": 7,
   "metadata": {
    "collapsed": false
   },
   "outputs": [
    {
     "data": {
      "image/png": "[encoded data removed]",
      "text/plain": [
       "<matplotlib.figure.Figure at 0x21a0bce5160>"
      ]
     },
     "metadata": {},
     "output_type": "display_data"
    }
   ],
   "source": [
    "# plot some of the numbers\n",
    "plt.figure(figsize=(7,7))\n",
    "for digit_num in range(0,70):\n",
    "    plt.subplot(7,10,digit_num+1)\n",
    "    grid_data = train_features.iloc[digit_num].as_matrix().reshape(28,28)  # reshape from 1d to 2d pixel array\n",
    "    plt.imshow(grid_data, interpolation = \"none\", cmap = \"afmhot\")\n",
    "    plt.xticks([])\n",
    "    plt.yticks([])\n",
    "plt.tight_layout()"
   ]
  },
  {
   "cell_type": "code",
   "execution_count": 8,
   "metadata": {
    "collapsed": false
   },
   "outputs": [],
   "source": [
    "#PCA is an unsupervised method for reducing the dimensionality of the existing \n",
    "#data set and extracting important information.\n",
    "#We are selecting only 50 components\n",
    "pca = PCA(n_components=50,whiten=True)\n",
    "#fitting the train features\n",
    "pca.fit(train_features)\n",
    "#Transforming the train features and storing it as pca_train\n",
    "pca_train = pca.transform(train_features)\n",
    "#Transforming the test features and storing it as pca_test\n",
    "pca_test = pca.transform(test_features)"
   ]
  },
  {
   "cell_type": "code",
   "execution_count": 9,
   "metadata": {
    "collapsed": false
   },
   "outputs": [],
   "source": [
    "from sklearn.svm import SVC\n",
    "#Initialize the classifier\n",
    "clf =SVC(kernel='rbf', C=1000, gamma=0.001)\n",
    "#Fit the model\n",
    "clffit = clf.fit(pca_train,train_labels)\n",
    "#Predict the test labels\n",
    "pred = clf.predict(pca_test)\n",
    "\n",
    "#generating the submission file\n",
    "#importing the predicted values into excel file in two columns \"ImageId\" and \"label\" \n",
    "final= pd.DataFrame()\n",
    "final['ImageId']= range(1,28001,1)\n",
    "final['label']= pred\n",
    "\n",
    "#submitting the predicted values in a csv file\n",
    "final.to_csv(\"C:/Users/Rashmita Rout/Desktop/Multivariate/Digit Data/final/result_1.csv\",index=False)\n"
   ]
  },
  {
   "cell_type": "code",
   "execution_count": null,
   "metadata": {
    "collapsed": true
   },
   "outputs": [],
   "source": [
    "# using TensorFlow"
   ]
  },
  {
   "cell_type": "code",
   "execution_count": 10,
   "metadata": {
    "collapsed": true
   },
   "outputs": [],
   "source": [
    "train_x = train.drop(['label'], axis=1)\n",
    "train_x = train_x.values.astype(dtype=np.float32)\n",
    "train_x = train_x.reshape(42000, 28, 28, 1)"
   ]
  },
  {
   "cell_type": "code",
   "execution_count": 11,
   "metadata": {
    "collapsed": true
   },
   "outputs": [],
   "source": [
    "train_y = train['label'].tolist()\n",
    "train_y = tf.one_hot(train_y, depth=10)\n",
    "train_y = tf.Session().run(train_y).astype(dtype=np.float64)"
   ]
  },
  {
   "cell_type": "code",
   "execution_count": 12,
   "metadata": {
    "collapsed": true
   },
   "outputs": [],
   "source": [
    "test_x = test.values.astype(dtype=np.float32)\n",
    "test_x = test_x.reshape(28000, 28, 28, 1)"
   ]
  },
  {
   "cell_type": "code",
   "execution_count": 13,
   "metadata": {
    "collapsed": false
   },
   "outputs": [
    {
     "data": {
      "image/png": "[encoded data removed]",
      "text/plain": [
       "<matplotlib.figure.Figure at 0x21a0d3f0eb8>"
      ]
     },
     "metadata": {},
     "output_type": "display_data"
    }
   ],
   "source": [
    "# Display an image read in from the CSV\n",
    "pixels = test_x[1].reshape((28, 28))\n",
    "plt.imshow(pixels, cmap='gray')\n",
    "plt.show()"
   ]
  },
  {
   "cell_type": "code",
   "execution_count": 14,
   "metadata": {
    "collapsed": true
   },
   "outputs": [],
   "source": [
    "X = tf.placeholder(tf.float32, [None, 28, 28, 1])\n",
    "Y_ = tf.placeholder(tf.float32, [None, 10])\n",
    "W = tf.placeholder(tf.float32)\n",
    "b = tf.placeholder(tf.float32)"
   ]
  },
  {
   "cell_type": "code",
   "execution_count": 15,
   "metadata": {
    "collapsed": true
   },
   "outputs": [],
   "source": [
    "def weight_variable(shape):\n",
    "    initial = tf.truncated_normal(shape, stddev=0.1)\n",
    "    return tf.Variable(initial)\n",
    "\n",
    "def bias_variable(shape):\n",
    "    initial = tf.constant(0.1, shape=shape)\n",
    "    return tf.Variable(initial)"
   ]
  },
  {
   "cell_type": "code",
   "execution_count": 16,
   "metadata": {
    "collapsed": true
   },
   "outputs": [],
   "source": [
    "def conv2d(X, W):\n",
    "    return tf.nn.conv2d(X, W, strides=[1, 1, 1, 1], padding='SAME')\n",
    "\n",
    "def max_pool_2x2(X):\n",
    "    return tf.nn.max_pool(X, ksize=[1, 2, 2, 1],\n",
    "                        strides=[1, 2, 2, 1], padding='SAME')"
   ]
  },
  {
   "cell_type": "code",
   "execution_count": 17,
   "metadata": {
    "collapsed": true
   },
   "outputs": [],
   "source": [
    "#first convolution layer\n",
    "W_conv1 = weight_variable([5, 5, 1, 32])\n",
    "b_conv1 = bias_variable([32])\n",
    "\n",
    "x_image = tf.reshape(X, [-1,28,28,1])\n",
    "\n",
    "h_conv1 = tf.nn.relu(conv2d(x_image, W_conv1) + b_conv1)\n",
    "h_pool1 = max_pool_2x2(h_conv1)"
   ]
  },
  {
   "cell_type": "code",
   "execution_count": 18,
   "metadata": {
    "collapsed": true
   },
   "outputs": [],
   "source": [
    "#second convolution layer\n",
    "W_conv2 = weight_variable([5, 5, 32, 64])\n",
    "b_conv2 = bias_variable([64])\n",
    "\n",
    "h_conv2 = tf.nn.relu(conv2d(h_pool1, W_conv2) + b_conv2)\n",
    "h_pool2 = max_pool_2x2(h_conv2)"
   ]
  },
  {
   "cell_type": "code",
   "execution_count": 19,
   "metadata": {
    "collapsed": true
   },
   "outputs": [],
   "source": [
    "#densly connected layer\n",
    "W_fc1 = weight_variable([7 * 7 * 64, 1024])\n",
    "b_fc1 = bias_variable([1024])\n",
    "\n",
    "h_pool2_flat = tf.reshape(h_pool2, [-1, 7*7*64])\n",
    "h_fc1 = tf.nn.relu(tf.matmul(h_pool2_flat, W_fc1) + b_fc1)"
   ]
  },
  {
   "cell_type": "code",
   "execution_count": 20,
   "metadata": {
    "collapsed": true
   },
   "outputs": [],
   "source": [
    "#To reduce overfitting, we will apply dropout before the readout layer\n",
    "keep_prob = tf.placeholder(tf.float32)\n",
    "h_fc1_drop = tf.nn.dropout(h_fc1, keep_prob)"
   ]
  },
  {
   "cell_type": "code",
   "execution_count": 21,
   "metadata": {
    "collapsed": true
   },
   "outputs": [],
   "source": [
    "#\n",
    "W_fc2 = weight_variable([1024, 10])\n",
    "b_fc2 = bias_variable([10])\n",
    "\n",
    "y_conv = tf.matmul(h_fc1_drop, W_fc2) + b_fc2"
   ]
  },
  {
   "cell_type": "code",
   "execution_count": 22,
   "metadata": {
    "collapsed": false
   },
   "outputs": [],
   "source": [
    "cross_entropy = tf.nn.softmax_cross_entropy_with_logits(logits=y_conv, labels=Y_)\n",
    "cross_entropy = tf.reduce_mean(cross_entropy)*100\n",
    "\n",
    "# accuracy of the trained model, between 0 (worst) and 1 (best)\n",
    "correct_prediction = tf.equal(tf.argmax(y_conv, 1), tf.argmax(Y_, 1))\n",
    "accuracy = tf.reduce_mean(tf.cast(correct_prediction, tf.float32))\n",
    "predictions = tf.argmax(y_conv, 1)\n",
    "\n",
    "# training step, the learning rate is a placeholder\n",
    "train_step = tf.train.AdamOptimizer(W).minimize(cross_entropy)"
   ]
  },
  {
   "cell_type": "code",
   "execution_count": 23,
   "metadata": {
    "collapsed": false
   },
   "outputs": [
    {
     "name": "stdout",
     "output_type": "stream",
     "text": [
      "0: training accuracy:0.14 training loss: 90016.3 (W:0.003)\n",
      "0: ********* test accuracy:0.1086 test loss: 100150.0\n",
      "100: training accuracy:0.75 training loss: 77.3057 (W:0.0028585653310520707)\n",
      "200: training accuracy:0.8 training loss: 59.2267 (W:0.0027240285123042826)\n",
      "300: training accuracy:0.89 training loss: 51.1457 (W:0.0025960531316326675)\n",
      "400: training accuracy:0.82 training loss: 53.0918 (W:0.0024743191839261473)\n",
      "500: training accuracy:0.91 training loss: 31.4537 (W:0.002358522270907074)\n",
      "500: ********* test accuracy:0.8854 test loss: 35.594\n",
      "600: training accuracy:0.92 training loss: 21.6808 (W:0.002248372839976982)\n",
      "700: training accuracy:0.84 training loss: 48.957 (W:0.002143595460184269)\n",
      "800: training accuracy:0.93 training loss: 26.1049 (W:0.002043928133503354)\n",
      "900: training accuracy:0.94 training loss: 18.6864 (W:0.001949121639703143)\n",
      "1000: training accuracy:0.91 training loss: 33.7635 (W:0.0018589389131666372)\n",
      "1000: ********* test accuracy:0.9356 test loss: 20.732\n",
      "1100: training accuracy:0.95 training loss: 10.7715 (W:0.0017731544501034114)\n",
      "1200: training accuracy:0.92 training loss: 15.2772 (W:0.001691553744672677)\n",
      "1300: training accuracy:0.94 training loss: 22.4174 (W:0.0016139327526069466)\n",
      "1400: training accuracy:0.94 training loss: 21.1625 (W:0.0015400973809950877)\n",
      "1500: training accuracy:0.96 training loss: 9.67671 (W:0.0014698630029489428)\n",
      "1500: ********* test accuracy:0.9546 test loss: 13.4896\n",
      "1600: training accuracy:0.97 training loss: 13.0983 (W:0.0014030539959399427)\n",
      "1700: training accuracy:0.94 training loss: 9.24012 (W:0.0013395033026513076)\n",
      "1800: training accuracy:0.98 training loss: 10.3529 (W:0.0012790520132477375)\n",
      "1900: training accuracy:0.96 training loss: 16.444 (W:0.0012215489680180538)\n",
      "2000: training accuracy:0.96 training loss: 9.02556 (W:0.0011668503793971828)\n",
      "2000: ********* test accuracy:0.9702 test loss: 9.36644\n",
      "2100: training accuracy:0.94 training loss: 12.7266 (W:0.0011148194724223506)\n",
      "2200: training accuracy:0.98 training loss: 5.53378 (W:0.0010653261427244307)\n",
      "2300: training accuracy:0.98 training loss: 4.78387 (W:0.0010182466311992545)\n",
      "2400: training accuracy:0.99 training loss: 6.24767 (W:0.0009734632145453863)\n",
      "2500: training accuracy:1.0 training loss: 2.36809 (W:0.0009308639108945514)\n",
      "2500: ********* test accuracy:0.9869 test loss: 4.30692\n",
      "2600: training accuracy:0.99 training loss: 5.3486 (W:0.0008903421997986366)\n",
      "2700: training accuracy:0.98 training loss: 6.68712 (W:0.0008517967558730855)\n",
      "2800: training accuracy:0.96 training loss: 10.7872 (W:0.0008151311954306589)\n",
      "2900: training accuracy:0.99 training loss: 2.18993 (W:0.0007802538354720133)\n",
      "3000: training accuracy:0.97 training loss: 5.09986 (W:0.0007470774644304465)\n",
      "3000: ********* test accuracy:0.9804 test loss: 5.54661\n",
      "3100: training accuracy:1.0 training loss: 1.39891 (W:0.0007155191240975549)\n",
      "3200: training accuracy:0.98 training loss: 3.44049 (W:0.0006854999021845007)\n",
      "3300: training accuracy:0.96 training loss: 8.01234 (W:0.000656944735000187)\n",
      "3400: training accuracy:0.99 training loss: 3.88916 (W:0.0006297822197529307)\n",
      "3500: training accuracy:0.99 training loss: 2.68316 (W:0.000603944436006291)\n",
      "3500: ********* test accuracy:0.9893 test loss: 3.05207\n",
      "3600: training accuracy:1.0 training loss: 0.485841 (W:0.000579366775842601)\n",
      "3700: training accuracy:1.0 training loss: 0.764855 (W:0.0005559877823095201)\n",
      "3800: training accuracy:0.98 training loss: 6.26334 (W:0.0005337489957456418)\n",
      "3900: training accuracy:1.0 training loss: 1.26205 (W:0.0005125948076008895)\n",
      "4000: training accuracy:0.99 training loss: 1.8107 (W:0.0004924723213861769)\n",
      "4000: ********* test accuracy:0.9927 test loss: 2.31683\n",
      "4100: training accuracy:1.0 training loss: 1.19023 (W:0.0004733312204046323)\n",
      "4200: training accuracy:0.98 training loss: 7.93974 (W:0.00045512364193364755)\n",
      "4300: training accuracy:1.0 training loss: 0.512597 (W:0.00043780405754314123)\n",
      "4400: training accuracy:0.99 training loss: 1.40364 (W:0.00042132915925076824)\n",
      "4500: training accuracy:1.0 training loss: 0.390337 (W:0.00040565775122940656)\n",
      "4500: ********* test accuracy:0.993 test loss: 1.97779\n",
      "4600: training accuracy:1.0 training loss: 1.03011 (W:0.0003907506467961309)\n",
      "4700: training accuracy:1.0 training loss: 0.391604 (W:0.0003765705704250939)\n",
      "4800: training accuracy:0.99 training loss: 1.95996 (W:0.0003630820645392963)\n",
      "4900: training accuracy:1.0 training loss: 0.846168 (W:0.00035025140084817447)\n",
      "5000: training accuracy:1.0 training loss: 1.26145 (W:0.00033804649600930654)\n",
      "5000: ********* test accuracy:0.9979 test loss: 0.78592\n",
      "5100: training accuracy:0.99 training loss: 1.32394 (W:0.0003264368314033442)\n",
      "5200: training accuracy:1.0 training loss: 0.0876701 (W:0.0003153933768215683)\n",
      "5300: training accuracy:0.99 training loss: 0.912244 (W:0.00030488851787524585)\n",
      "5400: training accuracy:1.0 training loss: 1.30005 (W:0.0002948959869452743)\n",
      "5500: training accuracy:1.0 training loss: 0.834438 (W:0.00028539079749945195)\n",
      "5500: ********* test accuracy:0.9976 test loss: 0.813009\n",
      "5600: training accuracy:1.0 training loss: 1.06429 (W:0.00027634918161313215)\n",
      "5700: training accuracy:1.0 training loss: 0.0623661 (W:0.0002677485305370315)\n",
      "5800: training accuracy:1.0 training loss: 0.0363548 (W:0.000259567338163581)\n",
      "5900: training accuracy:1.0 training loss: 0.180003 (W:0.00025178514725045394)\n",
      "6000: training accuracy:1.0 training loss: 0.32812 (W:0.00024438249826680544)\n",
      "6000: ********* test accuracy:0.9983 test loss: 0.641901\n",
      "6100: training accuracy:1.0 training loss: 0.678674 (W:0.00023734088073430873)\n",
      "6200: training accuracy:1.0 training loss: 0.190762 (W:0.00023064268694131766)\n",
      "6300: training accuracy:0.99 training loss: 2.09733 (W:0.00022427116791441654)\n",
      "6400: training accuracy:1.0 training loss: 0.289531 (W:0.00021821039153726202)\n",
      "6500: training accuracy:1.0 training loss: 0.286376 (W:0.00021244520271199385)\n",
      "6500: ********* test accuracy:0.9991 test loss: 0.408731\n",
      "6600: training accuracy:1.0 training loss: 0.106805 (W:0.00020696118546359606)\n",
      "6700: training accuracy:1.0 training loss: 0.0690093 (W:0.0002017446268924506)\n",
      "6800: training accuracy:1.0 training loss: 0.222 (W:0.00019678248288494563)\n",
      "6900: training accuracy:1.0 training loss: 0.202083 (W:0.00019206234549639704)\n",
      "7000: training accuracy:1.0 training loss: 0.142601 (W:0.00018757241192472366)\n",
      "7000: ********* test accuracy:0.9993 test loss: 0.393447\n",
      "7100: training accuracy:1.0 training loss: 0.0832206 (W:0.00018330145499729437)\n",
      "7200: training accuracy:1.0 training loss: 0.379645 (W:0.00017923879509714843)\n",
      "7300: training accuracy:1.0 training loss: 0.051742 (W:0.0001753742734583905)\n",
      "7400: training accuracy:1.0 training loss: 0.0936842 (W:0.00017169822676398424)\n",
      "7500: training accuracy:1.0 training loss: 0.181239 (W:0.00016820146298242642)\n",
      "7500: ********* test accuracy:0.9998 test loss: 0.195596\n",
      "7600: training accuracy:1.0 training loss: 0.17744 (W:0.00016487523838288026)\n",
      "7700: training accuracy:1.0 training loss: 0.0774119 (W:0.0001617112356712938)\n",
      "7800: training accuracy:1.0 training loss: 0.0312293 (W:0.00015870154319283275)\n",
      "7900: training accuracy:1.0 training loss: 0.015873 (W:0.00015583863514862209)\n",
      "8000: training accuracy:1.0 training loss: 0.0674889 (W:0.00015311535277732913)\n",
      "8000: ********* test accuracy:0.9999 test loss: 0.163082\n",
      "8100: training accuracy:1.0 training loss: 0.124911 (W:0.0001505248864545312)\n",
      "8200: training accuracy:1.0 training loss: 0.209026 (W:0.00014806075866510764)\n",
      "8300: training accuracy:1.0 training loss: 0.0648401 (W:0.00014571680780607802)\n",
      "8400: training accuracy:1.0 training loss: 0.138617 (W:0.00014348717277938534)\n",
      "8500: training accuracy:1.0 training loss: 0.0413395 (W:0.00014136627833609785)\n",
      "8500: ********* test accuracy:0.9998 test loss: 0.157737\n",
      "8600: training accuracy:1.0 training loss: 0.0675345 (W:0.00013934882113538272)\n",
      "8700: training accuracy:1.0 training loss: 0.0278593 (W:0.00013742975648339164)\n",
      "8800: training accuracy:1.0 training loss: 0.0364835 (W:0.00013560428571889846)\n",
      "8900: training accuracy:1.0 training loss: 0.0576556 (W:0.0001338678442141468)\n",
      "9000: training accuracy:1.0 training loss: 0.112521 (W:0.0001322160899609027)\n",
      "9000: ********* test accuracy:0.9994 test loss: 0.187988\n",
      "9100: training accuracy:1.0 training loss: 0.0878993 (W:0.00013064489271317272)\n",
      "9200: training accuracy:1.0 training loss: 0.0522229 (W:0.0001291503236594374)\n",
      "9300: training accuracy:1.0 training loss: 0.145407 (W:0.00012772864559857617)\n",
      "9400: training accuracy:1.0 training loss: 0.0221161 (W:0.00012637630359491788)\n",
      "9500: training accuracy:1.0 training loss: 0.0410355 (W:0.00012508991608904985)\n",
      "9500: ********* test accuracy:0.9996 test loss: 0.183974\n",
      "9600: training accuracy:1.0 training loss: 0.131108 (W:0.0001238662664421581)\n",
      "9700: training accuracy:1.0 training loss: 0.126784 (W:0.00012270229489275475)\n",
      "9800: training accuracy:1.0 training loss: 0.581748 (W:0.00012159509090568058)\n",
      "9900: training accuracy:1.0 training loss: 0.0670442 (W:0.00012054188589425116)\n",
      "10000: training accuracy:1.0 training loss: 0.0083281 (W:0.00011954004629734786)\n",
      "10000: ********* test accuracy:0.9999 test loss: 0.110447\n"
     ]
    }
   ],
   "source": [
    "# init\n",
    "init = tf.global_variables_initializer()\n",
    "sess = tf.Session()\n",
    "sess.run(init)\n",
    "\n",
    "def getBatch(i, size, trainFeatures, trainLabels):\n",
    "    startIndex = (i * size) % 42000\n",
    "    endIndex = startIndex + size\n",
    "    batch_X = trainFeatures[startIndex : endIndex]\n",
    "    batch_Y = trainLabels[startIndex : endIndex]\n",
    "    return batch_X, batch_Y\n",
    "\n",
    "# You can call this function in a loop to train the model, 100 images at a time\n",
    "def training_step(i):\n",
    "\n",
    "    # training on batches of 100 images with 100 labels\n",
    "    size = 100\n",
    "    batch_X, batch_Y = getBatch(i, size, train_x, train_y)\n",
    "\n",
    "    # learning rate decay\n",
    "    max_learning_rate = 0.003\n",
    "    min_learning_rate = 0.0001\n",
    "    decay_speed = 2000.0\n",
    "    learning_rate = min_learning_rate + (max_learning_rate - min_learning_rate) * math.exp(-i/decay_speed)\n",
    "\n",
    "    # compute training values\n",
    "    if i % 100 == 0:\n",
    "        a, c = sess.run([accuracy, cross_entropy], {X: batch_X, Y_: batch_Y, keep_prob: 1.0})\n",
    "        print(str(i) + \": training accuracy:\" + str(a) + \" training loss: \" + str(c) + \" (W:\" + str(learning_rate) + \")\")\n",
    "\n",
    "    # compute test values\n",
    "    if i % 500 == 0:\n",
    "        a, c = sess.run([accuracy, cross_entropy], {X: train_x[-10000:], Y_: train_y[-10000:], keep_prob: 1.0})\n",
    "        print(str(i) + \": ********* test accuracy:\" + str(a) + \" test loss: \" + str(c))\n",
    "\n",
    "    # the backpropagation training step\n",
    "    sess.run(train_step, {X: batch_X, Y_: batch_Y, W: learning_rate, keep_prob: 0.75})\n",
    "\n",
    "# Run number of iterations training the NN    \n",
    "for i in range(10000+1): \n",
    "    training_step(i)"
   ]
  },
  {
   "cell_type": "code",
   "execution_count": null,
   "metadata": {
    "collapsed": false
   },
   "outputs": [],
   "source": [
    "# Get predictions on test data\n",
    "pred = sess.run([predictions], {X: test_x, keep_prob: 1.0})\n",
    "\n",
    "# Write predictions to csv file\n",
    "results = pd.DataFrame({'ImageId': pd.Series(range(1, len(pred[0]) + 1)), 'Label': pd.Series(pred[0])})\n",
    "results.to_csv('C:/Users/Rashmita Rout/Desktop/Multivariate/Digit Data/final/result_tf1.csv', index=False)"
   ]
  }
 ],
 "metadata": {
  "anaconda-cloud": {},
  "kernelspec": {
   "display_name": "Python [conda root]",
   "language": "python",
   "name": "conda-root-py"
  },
  "language_info": {
   "codemirror_mode": {
    "name": "ipython",
    "version": 3
   },
   "file_extension": ".py",
   "mimetype": "text/x-python",
   "name": "python",
   "nbconvert_exporter": "python",
   "pygments_lexer": "ipython3",
   "version": "3.5.2"
  }
 },
 "nbformat": 4,
 "nbformat_minor": 1
}
